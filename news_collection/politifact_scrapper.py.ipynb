{
 "cells": [
  {
   "cell_type": "code",
   "execution_count": 34,
   "id": "4f7307de",
   "metadata": {},
   "outputs": [],
   "source": [
    "import requests\n",
    "import json\n",
    "import uuid\n",
    "from datetime import datetime as dt"
   ]
  },
  {
   "cell_type": "code",
   "execution_count": 41,
   "id": "33cf8bac",
   "metadata": {},
   "outputs": [],
   "source": [
    "class News():\n",
    "    def __init__(self):\n",
    "        self.id = uuid.uuid4()\n",
    "        self.heading = None\n",
    "        self.body = None\n",
    "        self.article_src_link = None\n",
    "        self.author = None\n",
    "        self.publisher = None\n",
    "        self.published_date = None\n",
    "    \n",
    "    "
   ]
  },
  {
   "cell_type": "code",
   "execution_count": 42,
   "id": "b92d144d",
   "metadata": {},
   "outputs": [],
   "source": [
    "class TOIFeed(News):\n",
    "    \n",
    "    def create_news(self, single_feed):\n",
    "        self.heading = single_feed.get('title', None)\n",
    "        self.body = single_feed.get('description', None).split(\">\")[-1]\n",
    "        self.article_src_link = single_feed.get('link', None)\n",
    "        self.published_date = dt.strptime(single_feed.get('pubDate', None).split(\"+\")[0], \"%Y-%m-%dT%H:%M:%S\")\n",
    "        self.publisher = \"TOI\""
   ]
  },
  {
   "cell_type": "code",
   "execution_count": 43,
   "id": "42dfa241",
   "metadata": {},
   "outputs": [
    {
     "data": {
      "text/plain": [
       "[{'title': \"Several 'AAP volunteers' join BJP in Delhi\",\n",
       "  'description': '<img border=\"0\" hspace=\"10\" align=\"left\" style=\"margin-top:3px;margin-right:5px;\" src=\"https://timesofindia.indiatimes.com/photo/93732204.cms\" />Several \"AAP volunteers\" on Tuesday joined the Delhi unit of BJP which has been accused to have been trying to woo the AAP members.',\n",
       "  'link': 'https://timesofindia.indiatimes.com/city/delhi/aap-volunteers-join-delhi-bjp-as-rumours-of-rift-gather-strength/articleshow/93732204.cms',\n",
       "  'guid': 'https://timesofindia.indiatimes.com/city/delhi/aap-volunteers-join-delhi-bjp-as-rumours-of-rift-gather-strength/articleshow/93732204.cms',\n",
       "  'pubDate': '2022-08-23T16:46:58+05:30'},\n",
       " {'title': 'AAP govt ignored violations of excise policy: BJP',\n",
       "  'description': '<img border=\"0\" hspace=\"10\" align=\"left\" style=\"margin-top:3px;margin-right:5px;\" src=\"https://timesofindia.indiatimes.com/photo/93728952.cms\" />\\u200b\\u200b\\u200b\\u200bThe saffron party said the AAP leaders had been patting each other on the back and digressing from the questions raised on the alleged malpractices.',\n",
       "  'link': 'https://timesofindia.indiatimes.com/city/delhi/delhi-aap-govt-ignored-violations-of-excise-policy-recommendations-of-expert-committee-says-bjp/articleshow/93728952.cms',\n",
       "  'guid': 'https://timesofindia.indiatimes.com/city/delhi/delhi-aap-govt-ignored-violations-of-excise-policy-recommendations-of-expert-committee-says-bjp/articleshow/93728952.cms',\n",
       "  'pubDate': '2022-08-23T14:52:29+05:30'},\n",
       " {'title': 'Butcher arrested for raping, killing minor in Delhi',\n",
       "  'description': '<img border=\"0\" hspace=\"10\" align=\"left\" style=\"margin-top:3px;margin-right:5px;\" src=\"https://timesofindia.indiatimes.com/photo/93720564.cms\" />Delhi Police on Monday arrested a man for allegedly killing an 8-year-old girl after she saw him in a compromising position with her mother at her residence in central Delhi. Police said he had sexually assaulted the girl and mutilated her face.',\n",
       "  'link': 'https://timesofindia.indiatimes.com/city/delhi/butcher-arrested-for-raping-killing-minor-girl-in-delhis-turkman-gate-area/articleshow/93720564.cms',\n",
       "  'guid': 'https://timesofindia.indiatimes.com/city/delhi/butcher-arrested-for-raping-killing-minor-girl-in-delhis-turkman-gate-area/articleshow/93720564.cms',\n",
       "  'pubDate': '2022-08-23T08:42:18+05:30'},\n",
       " {'title': \"True face of 'Kejriwal model' decoded: BJP\",\n",
       "  'description': '<img border=\"0\" hspace=\"10\" align=\"left\" style=\"margin-top:3px;margin-right:5px;\" src=\"https://timesofindia.indiatimes.com/photo/93721302.cms\" /> BJP on Monday claimed that the huge loss caused to the state exchequer due to the \"excise scam\" had \"decoded the true face of the Kejriwal Model\".',\n",
       "  'link': 'https://timesofindia.indiatimes.com/city/delhi/true-face-of-kejriwal-model-decoded-bjp/articleshow/93721302.cms',\n",
       "  'guid': 'https://timesofindia.indiatimes.com/city/delhi/true-face-of-kejriwal-model-decoded-bjp/articleshow/93721302.cms',\n",
       "  'pubDate': '2022-08-23T09:34:09+05:30'},\n",
       " {'title': 'Safdarjung stares at rain deficit of 81% in Aug so far',\n",
       "  'description': '<img border=\"0\" hspace=\"10\" align=\"left\" style=\"margin-top:3px;margin-right:5px;\" src=\"https://timesofindia.indiatimes.com/photo/93717355.cms\" />With just 33.7mm of rainfall recorded in August so far, Safdarjung, the city’s base weather station, has recorded a deficit of 81% this month. India Meteorological Department (IMD) said no major rain activity was expected in the next six days.',\n",
       "  'link': 'https://timesofindia.indiatimes.com/city/delhi/safdarjung-stares-at-rain-deficit-of-81-in-august-so-far/articleshow/93717355.cms',\n",
       "  'guid': 'https://timesofindia.indiatimes.com/city/delhi/safdarjung-stares-at-rain-deficit-of-81-in-august-so-far/articleshow/93717355.cms',\n",
       "  'pubDate': '2022-08-23T04:41:00+05:30'},\n",
       " {'title': 'Why Delhi cyclists find selves in no man’s land',\n",
       "  'description': '<img border=\"0\" hspace=\"10\" align=\"left\" style=\"margin-top:3px;margin-right:5px;\" src=\"https://timesofindia.indiatimes.com/photo/93717328.cms\" />Have bicycle lanes just become an element of road beautification rather than properly engineered routes? According to cyclists and experts, this is indeed the case, with the roads not yet safe for people using bicycles. Most of the Public Works Department’s streetscaping and lane-demarcation projects involve marking cycle lanes on the roads only for them to vanish after a short distance leaving the cyclists among the rush of motorists.',\n",
       "  'link': 'https://timesofindia.indiatimes.com/city/delhi/whose-lane-is-it-anyway-why-cyclists-in-delhi-find-selves-in-no-mans-land/articleshow/93717328.cms',\n",
       "  'guid': 'https://timesofindia.indiatimes.com/city/delhi/whose-lane-is-it-anyway-why-cyclists-in-delhi-find-selves-in-no-mans-land/articleshow/93717328.cms',\n",
       "  'pubDate': '2022-08-23T04:31:00+05:30'},\n",
       " {'title': \"Money laundering case: Satyendar Jain's wife gets bail\",\n",
       "  'description': '<img border=\"0\" hspace=\"10\" align=\"left\" style=\"margin-top:3px;margin-right:5px;\" src=\"https://timesofindia.indiatimes.com/photo/93730770.cms\" />The ED initiated a money laundering investigation on the basis of a First Information Report (FIR) registered by the Central Bureau of Investigation (CBI) on August 24, 2017, under the sections of the Prevention of Corruption Act against Satyendar Jain and others.',\n",
       "  'link': 'https://timesofindia.indiatimes.com/city/delhi/money-laundering-case-delhi-court-grants-regular-bail-to-minister-satyendar-jains-wife-poonam-jain/articleshow/93730770.cms',\n",
       "  'guid': 'https://timesofindia.indiatimes.com/city/delhi/money-laundering-case-delhi-court-grants-regular-bail-to-minister-satyendar-jains-wife-poonam-jain/articleshow/93730770.cms',\n",
       "  'pubDate': '2022-08-23T16:01:36+05:30'},\n",
       " {'title': 'Noida twin towers fully charged for demolition',\n",
       "  'description': '<img border=\"0\" hspace=\"10\" align=\"left\" style=\"margin-top:3px;margin-right:5px;\" src=\"https://timesofindia.indiatimes.com/photo/93717995.cms\" />The loading of 3,700 kg explosives into the columns of Supertech\\'s twin towers at the Emerald Court complex was completed on Monday, wrapping up the charging process of the buildings with six days to go for the August 28 demolition.',\n",
       "  'link': 'https://timesofindia.indiatimes.com/city/noida/noida-twin-towers-now-fully-charged-for-demolition/articleshow/93717995.cms',\n",
       "  'guid': 'https://timesofindia.indiatimes.com/city/noida/noida-twin-towers-now-fully-charged-for-demolition/articleshow/93717995.cms',\n",
       "  'pubDate': '2022-08-23T04:23:26+05:30'},\n",
       " {'title': '10-yr-old faints near school stairs in Ggm, dies',\n",
       "  'description': '<img border=\"0\" hspace=\"10\" align=\"left\" style=\"margin-top:3px;margin-right:5px;\" src=\"https://timesofindia.indiatimes.com/photo/93717978.cms\" />A 10-year-old girl fainted near the stairs of her school in Sector 64 and was declared dead on arrival when rushed to a hospital nearby on Monday morning.',\n",
       "  'link': 'https://timesofindia.indiatimes.com/city/gurgaon/10-year-old-girl-faints-near-school-stairs-in-gurugram-dies/articleshow/93717978.cms',\n",
       "  'guid': 'https://timesofindia.indiatimes.com/city/gurgaon/10-year-old-girl-faints-near-school-stairs-in-gurugram-dies/articleshow/93717978.cms',\n",
       "  'pubDate': '2022-08-23T04:18:44+05:30'},\n",
       " {'title': 'Delhi borders choke as farmers return for agitation',\n",
       "  'description': '<img border=\"0\" hspace=\"10\" align=\"left\" style=\"margin-top:3px;margin-right:5px;\" src=\"https://timesofindia.indiatimes.com/photo/93717956.cms\" />Monday morning brought back a sight residents of Delhi-NCR hoped to have seen the last of in December 2021 - concrete barricades, heavy police presence at borders, farmers squatting on roads, and traffic jams that stretched back several kilometres.',\n",
       "  'link': 'https://timesofindia.indiatimes.com/city/delhi/delhi-borders-choke-as-farmers-return-for-one-day-agitation/articleshow/93717956.cms',\n",
       "  'guid': 'https://timesofindia.indiatimes.com/city/delhi/delhi-borders-choke-as-farmers-return-for-one-day-agitation/articleshow/93717956.cms',\n",
       "  'pubDate': '2022-08-23T04:09:44+05:30'},\n",
       " {'title': 'Butcher rapes, kills girl in Turkman Gate area',\n",
       "  'description': '<img border=\"0\" hspace=\"10\" align=\"left\" style=\"margin-top:3px;margin-right:5px;\" src=\"https://timesofindia.indiatimes.com/photo/93716119.cms\" />A 36-year-old butcher was arrested on Monday for allegedly kidnapping and raping an eight-year-old girl and later killing her in the forest area of Yamuna Khadar in Central Delhi, police said. The man slit the girl\\'s throat and mutilated her face, they said.',\n",
       "  'link': 'https://timesofindia.indiatimes.com/city/delhi/butcher-arrested-for-raping-killing-minor-girl-in-delhis-turkman-gate-area/articleshow/93716119.cms',\n",
       "  'guid': 'https://timesofindia.indiatimes.com/city/delhi/butcher-arrested-for-raping-killing-minor-girl-in-delhis-turkman-gate-area/articleshow/93716119.cms',\n",
       "  'pubDate': '2022-08-22T22:49:52+05:30'},\n",
       " {'title': '4 friends die in road accident in Gurugram',\n",
       "  'description': '<img border=\"0\" hspace=\"10\" align=\"left\" style=\"margin-top:3px;margin-right:5px;\" src=\"https://timesofindia.indiatimes.com/photo/93714169.cms\" />Four friends - two students and two private company employees - were killed and one other was seriously injured after their car was hit from behind by a bus, allegedly speeding, in Khetawas village on the Gurugram-Farrukhnagar road on Monday, police said.',\n",
       "  'link': 'https://timesofindia.indiatimes.com/city/gurgaon/four-friends-returning-from-birthday-party-die-in-road-accident-in-gurugram/articleshow/93714169.cms',\n",
       "  'guid': 'https://timesofindia.indiatimes.com/city/gurgaon/four-friends-returning-from-birthday-party-die-in-road-accident-in-gurugram/articleshow/93714169.cms',\n",
       "  'pubDate': '2022-08-22T20:04:12+05:30'},\n",
       " {'title': 'Minor girl raped in Gurugram; accused held',\n",
       "  'description': '<img border=\"0\" hspace=\"10\" align=\"left\" style=\"margin-top:3px;margin-right:5px;\" src=\"https://timesofindia.indiatimes.com/photo/93713732.cms\" />A 23-year-old man was arrested for allegedly molesting and having oral sex with a four-year-old girl luring her with toffees, police here said on Monday.',\n",
       "  'link': 'https://timesofindia.indiatimes.com/city/gurgaon/minor-girl-raped-in-gurugram-lured-with-toffees/articleshow/93713732.cms',\n",
       "  'guid': 'https://timesofindia.indiatimes.com/city/gurgaon/minor-girl-raped-in-gurugram-lured-with-toffees/articleshow/93713732.cms',\n",
       "  'pubDate': '2022-08-22T19:37:58+05:30'},\n",
       " {'title': '11-year-old student dies in Gurugram school',\n",
       "  'description': '<img border=\"0\" hspace=\"10\" align=\"left\" style=\"margin-top:3px;margin-right:5px;\" src=\"https://timesofindia.indiatimes.com/photo/93715599.cms\" /> A 10-year-old student died under suspicious circumstances in her school here on Monday morning, police said.',\n",
       "  'link': 'https://timesofindia.indiatimes.com/city/gurgaon/10-year-old-student-dies-in-gurugram-school/articleshow/93715599.cms',\n",
       "  'guid': 'https://timesofindia.indiatimes.com/city/gurgaon/10-year-old-student-dies-in-gurugram-school/articleshow/93715599.cms',\n",
       "  'pubDate': '2022-08-22T21:54:30+05:30'},\n",
       " {'title': 'Delhi sees 625 Covid-19 cases, 7 more deaths',\n",
       "  'description': '<img border=\"0\" hspace=\"10\" align=\"left\" style=\"margin-top:3px;margin-right:5px;\" src=\"https://timesofindia.indiatimes.com/photo/93715634.cms\" />With the fresh cases and fatalities, Delhi\\'s infection tally increased to 19,94,448 and the death toll to 26,427.',\n",
       "  'link': 'https://timesofindia.indiatimes.com/city/delhi/delhi-sees-625-fresh-covid-19-cases-7-more-deaths/articleshow/93715634.cms',\n",
       "  'guid': 'https://timesofindia.indiatimes.com/city/delhi/delhi-sees-625-fresh-covid-19-cases-7-more-deaths/articleshow/93715634.cms',\n",
       "  'pubDate': '2022-08-22T21:58:59+05:30'},\n",
       " {'title': 'Corrupt water meter readers to face FIRs: DJB',\n",
       "  'description': '<img border=\"0\" hspace=\"10\" align=\"left\" style=\"margin-top:3px;margin-right:5px;\" src=\"https://timesofindia.indiatimes.com/photo/93715005.cms\" /> Delhi Jal Board vice chairman Saurabh Bhardwaj  asked the officials to expedite the implementation of key performance indicators and reward or punish officers based on their performance.',\n",
       "  'link': 'https://timesofindia.indiatimes.com/city/delhi/corrupt-water-meter-readers-to-face-firs-delhi-jal-board/articleshow/93715005.cms',\n",
       "  'guid': 'https://timesofindia.indiatimes.com/city/delhi/corrupt-water-meter-readers-to-face-firs-delhi-jal-board/articleshow/93715005.cms',\n",
       "  'pubDate': '2022-08-22T20:58:20+05:30'},\n",
       " {'title': 'MBBS student dies in Gurugram accident',\n",
       "  'description': '<img border=\"0\" hspace=\"10\" align=\"left\" style=\"margin-top:3px;margin-right:5px;\" src=\"https://timesofindia.indiatimes.com/photo/93710598.cms\" />An MBBS student was killed while his classmate sustained injuries when the car in which they were travelling crashed into a stationary truck here, police said on Monday.',\n",
       "  'link': 'https://timesofindia.indiatimes.com/city/gurgaon/gurugram-mbbs-student-dies-after-car-collides-with-stationary-truck/articleshow/93710598.cms',\n",
       "  'guid': 'https://timesofindia.indiatimes.com/city/gurgaon/gurugram-mbbs-student-dies-after-car-collides-with-stationary-truck/articleshow/93710598.cms',\n",
       "  'pubDate': '2022-08-22T17:09:19+05:30'},\n",
       " {'title': 'Delhi excise policy: Sameer Mahendru grilled',\n",
       "  'description': '<img border=\"0\" hspace=\"10\" align=\"left\" style=\"margin-top:3px;margin-right:5px;\" src=\"https://timesofindia.indiatimes.com/photo/93710779.cms\" />The CBI has alleged that Radha Industries managed by Dinesh Arora received Rs 1 crore from Mahendru.',\n",
       "  'link': 'https://timesofindia.indiatimes.com/city/delhi/delhi-excise-policy-case-cbi-questions-sameer-mahendru-of-indospirit/articleshow/93710779.cms',\n",
       "  'guid': 'https://timesofindia.indiatimes.com/city/delhi/delhi-excise-policy-case-cbi-questions-sameer-mahendru-of-indospirit/articleshow/93710779.cms',\n",
       "  'pubDate': '2022-08-22T17:18:19+05:30'},\n",
       " {'title': \"Kejriwal is 'hardcore dishonest', alleges BJP\",\n",
       "  'description': '<img border=\"0\" hspace=\"10\" align=\"left\" style=\"margin-top:3px;margin-right:5px;\" src=\"https://timesofindia.indiatimes.com/photo/93714144.cms\" />Addressing a press conference at the party headquarters here, BJP national spokesperson Gaurav Bhatia said Kejriwal\\'s silence on corruption charges proves that he is \"hardcore dishonest\".',\n",
       "  'link': 'https://timesofindia.indiatimes.com/city/delhi/delhi-arvind-kejriwals-silence-on-corruption-charges-proves-hes-hardcore-dishonest-alleges-bjp/articleshow/93714144.cms',\n",
       "  'guid': 'https://timesofindia.indiatimes.com/city/delhi/delhi-arvind-kejriwals-silence-on-corruption-charges-proves-hes-hardcore-dishonest-alleges-bjp/articleshow/93714144.cms',\n",
       "  'pubDate': '2022-08-22T20:05:11+05:30'},\n",
       " {'title': 'No role in framing Delhi liquor policy: Kavitha',\n",
       "  'description': '<img border=\"0\" hspace=\"10\" align=\"left\" style=\"margin-top:3px;margin-right:5px;\" src=\"https://timesofindia.indiatimes.com/photo/93710197.cms\" />On Sunday, some BJP leaders alleged her involvement in framing liquor policy in Delhi involving Delhi deputy CM Manish Sisodia and she even attended some meetings with liquor contractors from South in star hotels.',\n",
       "  'link': 'https://timesofindia.indiatimes.com/city/hyderabad/telangana-kalvakuntla-kavitha-denies-her-role-in-framing-delhi-liquor-policy/articleshow/93710197.cms',\n",
       "  'guid': 'https://timesofindia.indiatimes.com/city/hyderabad/telangana-kalvakuntla-kavitha-denies-her-role-in-framing-delhi-liquor-policy/articleshow/93710197.cms',\n",
       "  'pubDate': '2022-08-22T17:01:37+05:30'}]"
      ]
     },
     "execution_count": 43,
     "metadata": {},
     "output_type": "execute_result"
    }
   ],
   "source": [
    "url = \"https://timesofindia.indiatimes.com/rssfeeds/-2128839596.cms?feedtype=sjson\"\n",
    "response=requests.get(url).json()\n",
    "content = response.get('channel')['item']\n",
    "content"
   ]
  },
  {
   "cell_type": "code",
   "execution_count": 64,
   "id": "587269bc",
   "metadata": {},
   "outputs": [
    {
     "name": "stdout",
     "output_type": "stream",
     "text": [
      "{'id': UUID('91906932-b645-4ed1-a4a8-962f84539049'), 'heading': \"Several 'AAP volunteers' join BJP in Delhi\", 'body': 'Several \"AAP volunteers\" on Tuesday joined the Delhi unit of BJP which has been accused to have been trying to woo the AAP members.', 'article_src_link': 'https://timesofindia.indiatimes.com/city/delhi/aap-volunteers-join-delhi-bjp-as-rumours-of-rift-gather-strength/articleshow/93732204.cms', 'author': None, 'publisher': 'TOI', 'published_date': datetime.datetime(2022, 8, 23, 16, 46, 58)}\n",
      "{'id': UUID('132db223-7d5d-48da-95c8-002cbc3d0bc6'), 'heading': 'AAP govt ignored violations of excise policy: BJP', 'body': '\\u200b\\u200b\\u200b\\u200bThe saffron party said the AAP leaders had been patting each other on the back and digressing from the questions raised on the alleged malpractices.', 'article_src_link': 'https://timesofindia.indiatimes.com/city/delhi/delhi-aap-govt-ignored-violations-of-excise-policy-recommendations-of-expert-committee-says-bjp/articleshow/93728952.cms', 'author': None, 'publisher': 'TOI', 'published_date': datetime.datetime(2022, 8, 23, 14, 52, 29)}\n",
      "{'id': UUID('4a092ac6-9963-46e5-9348-ee8eae546e45'), 'heading': 'Butcher arrested for raping, killing minor in Delhi', 'body': 'Delhi Police on Monday arrested a man for allegedly killing an 8-year-old girl after she saw him in a compromising position with her mother at her residence in central Delhi. Police said he had sexually assaulted the girl and mutilated her face.', 'article_src_link': 'https://timesofindia.indiatimes.com/city/delhi/butcher-arrested-for-raping-killing-minor-girl-in-delhis-turkman-gate-area/articleshow/93720564.cms', 'author': None, 'publisher': 'TOI', 'published_date': datetime.datetime(2022, 8, 23, 8, 42, 18)}\n",
      "{'id': UUID('07507fb2-9ad9-44e1-99e9-2686e9fee97e'), 'heading': \"True face of 'Kejriwal model' decoded: BJP\", 'body': ' BJP on Monday claimed that the huge loss caused to the state exchequer due to the \"excise scam\" had \"decoded the true face of the Kejriwal Model\".', 'article_src_link': 'https://timesofindia.indiatimes.com/city/delhi/true-face-of-kejriwal-model-decoded-bjp/articleshow/93721302.cms', 'author': None, 'publisher': 'TOI', 'published_date': datetime.datetime(2022, 8, 23, 9, 34, 9)}\n",
      "{'id': UUID('d5940faa-8635-4e13-873a-fa366546895c'), 'heading': 'Safdarjung stares at rain deficit of 81% in Aug so far', 'body': 'With just 33.7mm of rainfall recorded in August so far, Safdarjung, the city’s base weather station, has recorded a deficit of 81% this month. India Meteorological Department (IMD) said no major rain activity was expected in the next six days.', 'article_src_link': 'https://timesofindia.indiatimes.com/city/delhi/safdarjung-stares-at-rain-deficit-of-81-in-august-so-far/articleshow/93717355.cms', 'author': None, 'publisher': 'TOI', 'published_date': datetime.datetime(2022, 8, 23, 4, 41)}\n",
      "{'id': UUID('0db3a93e-3032-4c57-a3e6-55b8771fba5d'), 'heading': 'Why Delhi cyclists find selves in no man’s land', 'body': 'Have bicycle lanes just become an element of road beautification rather than properly engineered routes? According to cyclists and experts, this is indeed the case, with the roads not yet safe for people using bicycles. Most of the Public Works Department’s streetscaping and lane-demarcation projects involve marking cycle lanes on the roads only for them to vanish after a short distance leaving the cyclists among the rush of motorists.', 'article_src_link': 'https://timesofindia.indiatimes.com/city/delhi/whose-lane-is-it-anyway-why-cyclists-in-delhi-find-selves-in-no-mans-land/articleshow/93717328.cms', 'author': None, 'publisher': 'TOI', 'published_date': datetime.datetime(2022, 8, 23, 4, 31)}\n",
      "{'id': UUID('aafb4f20-c5df-4ae6-a5f9-e7054f74d1d1'), 'heading': \"Money laundering case: Satyendar Jain's wife gets bail\", 'body': 'The ED initiated a money laundering investigation on the basis of a First Information Report (FIR) registered by the Central Bureau of Investigation (CBI) on August 24, 2017, under the sections of the Prevention of Corruption Act against Satyendar Jain and others.', 'article_src_link': 'https://timesofindia.indiatimes.com/city/delhi/money-laundering-case-delhi-court-grants-regular-bail-to-minister-satyendar-jains-wife-poonam-jain/articleshow/93730770.cms', 'author': None, 'publisher': 'TOI', 'published_date': datetime.datetime(2022, 8, 23, 16, 1, 36)}\n",
      "{'id': UUID('0899e29a-388f-446d-b343-af7034dd15fe'), 'heading': 'Noida twin towers fully charged for demolition', 'body': \"The loading of 3,700 kg explosives into the columns of Supertech's twin towers at the Emerald Court complex was completed on Monday, wrapping up the charging process of the buildings with six days to go for the August 28 demolition.\", 'article_src_link': 'https://timesofindia.indiatimes.com/city/noida/noida-twin-towers-now-fully-charged-for-demolition/articleshow/93717995.cms', 'author': None, 'publisher': 'TOI', 'published_date': datetime.datetime(2022, 8, 23, 4, 23, 26)}\n",
      "{'id': UUID('1cb1cc94-6d0b-48cc-b329-5eddb394779c'), 'heading': '10-yr-old faints near school stairs in Ggm, dies', 'body': 'A 10-year-old girl fainted near the stairs of her school in Sector 64 and was declared dead on arrival when rushed to a hospital nearby on Monday morning.', 'article_src_link': 'https://timesofindia.indiatimes.com/city/gurgaon/10-year-old-girl-faints-near-school-stairs-in-gurugram-dies/articleshow/93717978.cms', 'author': None, 'publisher': 'TOI', 'published_date': datetime.datetime(2022, 8, 23, 4, 18, 44)}\n",
      "{'id': UUID('0b37e025-9737-4107-9fd3-9e54ce4c646c'), 'heading': 'Delhi borders choke as farmers return for agitation', 'body': 'Monday morning brought back a sight residents of Delhi-NCR hoped to have seen the last of in December 2021 - concrete barricades, heavy police presence at borders, farmers squatting on roads, and traffic jams that stretched back several kilometres.', 'article_src_link': 'https://timesofindia.indiatimes.com/city/delhi/delhi-borders-choke-as-farmers-return-for-one-day-agitation/articleshow/93717956.cms', 'author': None, 'publisher': 'TOI', 'published_date': datetime.datetime(2022, 8, 23, 4, 9, 44)}\n",
      "{'id': UUID('346b2da1-f7c8-449e-9f2e-9644a2f28a6f'), 'heading': 'Butcher rapes, kills girl in Turkman Gate area', 'body': \"A 36-year-old butcher was arrested on Monday for allegedly kidnapping and raping an eight-year-old girl and later killing her in the forest area of Yamuna Khadar in Central Delhi, police said. The man slit the girl's throat and mutilated her face, they said.\", 'article_src_link': 'https://timesofindia.indiatimes.com/city/delhi/butcher-arrested-for-raping-killing-minor-girl-in-delhis-turkman-gate-area/articleshow/93716119.cms', 'author': None, 'publisher': 'TOI', 'published_date': datetime.datetime(2022, 8, 22, 22, 49, 52)}\n",
      "{'id': UUID('c2f40957-395b-4acb-8264-c2b5e497ad37'), 'heading': '4 friends die in road accident in Gurugram', 'body': 'Four friends - two students and two private company employees - were killed and one other was seriously injured after their car was hit from behind by a bus, allegedly speeding, in Khetawas village on the Gurugram-Farrukhnagar road on Monday, police said.', 'article_src_link': 'https://timesofindia.indiatimes.com/city/gurgaon/four-friends-returning-from-birthday-party-die-in-road-accident-in-gurugram/articleshow/93714169.cms', 'author': None, 'publisher': 'TOI', 'published_date': datetime.datetime(2022, 8, 22, 20, 4, 12)}\n",
      "{'id': UUID('5f38623b-2759-462f-ac4d-4bd7771d74ce'), 'heading': 'Minor girl raped in Gurugram; accused held', 'body': 'A 23-year-old man was arrested for allegedly molesting and having oral sex with a four-year-old girl luring her with toffees, police here said on Monday.', 'article_src_link': 'https://timesofindia.indiatimes.com/city/gurgaon/minor-girl-raped-in-gurugram-lured-with-toffees/articleshow/93713732.cms', 'author': None, 'publisher': 'TOI', 'published_date': datetime.datetime(2022, 8, 22, 19, 37, 58)}\n",
      "{'id': UUID('70a03ca6-0309-465f-978e-5f61793779d0'), 'heading': '11-year-old student dies in Gurugram school', 'body': ' A 10-year-old student died under suspicious circumstances in her school here on Monday morning, police said.', 'article_src_link': 'https://timesofindia.indiatimes.com/city/gurgaon/10-year-old-student-dies-in-gurugram-school/articleshow/93715599.cms', 'author': None, 'publisher': 'TOI', 'published_date': datetime.datetime(2022, 8, 22, 21, 54, 30)}\n",
      "{'id': UUID('badda77d-1caa-4be9-82fa-20f95cdddd9c'), 'heading': 'Delhi sees 625 Covid-19 cases, 7 more deaths', 'body': \"With the fresh cases and fatalities, Delhi's infection tally increased to 19,94,448 and the death toll to 26,427.\", 'article_src_link': 'https://timesofindia.indiatimes.com/city/delhi/delhi-sees-625-fresh-covid-19-cases-7-more-deaths/articleshow/93715634.cms', 'author': None, 'publisher': 'TOI', 'published_date': datetime.datetime(2022, 8, 22, 21, 58, 59)}\n",
      "{'id': UUID('99f60a82-dd5f-4e4d-bf38-dc26ab6a13c6'), 'heading': 'Corrupt water meter readers to face FIRs: DJB', 'body': ' Delhi Jal Board vice chairman Saurabh Bhardwaj  asked the officials to expedite the implementation of key performance indicators and reward or punish officers based on their performance.', 'article_src_link': 'https://timesofindia.indiatimes.com/city/delhi/corrupt-water-meter-readers-to-face-firs-delhi-jal-board/articleshow/93715005.cms', 'author': None, 'publisher': 'TOI', 'published_date': datetime.datetime(2022, 8, 22, 20, 58, 20)}\n",
      "{'id': UUID('286c430f-dc29-4e75-854e-4ea84aa9d379'), 'heading': 'MBBS student dies in Gurugram accident', 'body': 'An MBBS student was killed while his classmate sustained injuries when the car in which they were travelling crashed into a stationary truck here, police said on Monday.', 'article_src_link': 'https://timesofindia.indiatimes.com/city/gurgaon/gurugram-mbbs-student-dies-after-car-collides-with-stationary-truck/articleshow/93710598.cms', 'author': None, 'publisher': 'TOI', 'published_date': datetime.datetime(2022, 8, 22, 17, 9, 19)}\n",
      "{'id': UUID('171bcd20-d2d7-4ce4-a27a-14295a9ed1b9'), 'heading': 'Delhi excise policy: Sameer Mahendru grilled', 'body': 'The CBI has alleged that Radha Industries managed by Dinesh Arora received Rs 1 crore from Mahendru.', 'article_src_link': 'https://timesofindia.indiatimes.com/city/delhi/delhi-excise-policy-case-cbi-questions-sameer-mahendru-of-indospirit/articleshow/93710779.cms', 'author': None, 'publisher': 'TOI', 'published_date': datetime.datetime(2022, 8, 22, 17, 18, 19)}\n",
      "{'id': UUID('dd03dfe3-f25f-4a1c-bc2e-13c1c0a98591'), 'heading': \"Kejriwal is 'hardcore dishonest', alleges BJP\", 'body': 'Addressing a press conference at the party headquarters here, BJP national spokesperson Gaurav Bhatia said Kejriwal\\'s silence on corruption charges proves that he is \"hardcore dishonest\".', 'article_src_link': 'https://timesofindia.indiatimes.com/city/delhi/delhi-arvind-kejriwals-silence-on-corruption-charges-proves-hes-hardcore-dishonest-alleges-bjp/articleshow/93714144.cms', 'author': None, 'publisher': 'TOI', 'published_date': datetime.datetime(2022, 8, 22, 20, 5, 11)}\n",
      "{'id': UUID('4ab355d6-eb97-40ab-8e45-09bd3eeab794'), 'heading': 'No role in framing Delhi liquor policy: Kavitha', 'body': 'On Sunday, some BJP leaders alleged her involvement in framing liquor policy in Delhi involving Delhi deputy CM Manish Sisodia and she even attended some meetings with liquor contractors from South in star hotels.', 'article_src_link': 'https://timesofindia.indiatimes.com/city/hyderabad/telangana-kalvakuntla-kavitha-denies-her-role-in-framing-delhi-liquor-policy/articleshow/93710197.cms', 'author': None, 'publisher': 'TOI', 'published_date': datetime.datetime(2022, 8, 22, 17, 1, 37)}\n"
     ]
    }
   ],
   "source": [
    "all_news = []\n",
    "for c in content:\n",
    "    news = TOIFeed()\n",
    "    news.create_news(c)\n",
    "    all_news.append(news)"
   ]
  },
  {
   "cell_type": "code",
   "execution_count": 53,
   "id": "072bab98",
   "metadata": {},
   "outputs": [
    {
     "data": {
      "text/plain": [
       "\"Several 'AAP volunteers' join BJP in Delhi\""
      ]
     },
     "execution_count": 53,
     "metadata": {},
     "output_type": "execute_result"
    }
   ],
   "source": [
    "all_news[0].heading"
   ]
  },
  {
   "cell_type": "code",
   "execution_count": 54,
   "id": "04aba832",
   "metadata": {},
   "outputs": [
    {
     "data": {
      "text/plain": [
       "<__main__.TOIFeed at 0x7fc2736758e0>"
      ]
     },
     "execution_count": 54,
     "metadata": {},
     "output_type": "execute_result"
    }
   ],
   "source": [
    "all_news[0]"
   ]
  },
  {
   "cell_type": "code",
   "execution_count": 60,
   "id": "74c2ea46",
   "metadata": {},
   "outputs": [
    {
     "data": {
      "text/plain": [
       "{'id': UUID('1bd79f72-d636-4878-aee5-8f8b35d3224f'),\n",
       " 'heading': \"Several 'AAP volunteers' join BJP in Delhi\",\n",
       " 'body': 'Several \"AAP volunteers\" on Tuesday joined the Delhi unit of BJP which has been accused to have been trying to woo the AAP members.',\n",
       " 'article_src_link': 'https://timesofindia.indiatimes.com/city/delhi/aap-volunteers-join-delhi-bjp-as-rumours-of-rift-gather-strength/articleshow/93732204.cms',\n",
       " 'author': None,\n",
       " 'publisher': 'TOI',\n",
       " 'published_date': datetime.datetime(2022, 8, 23, 16, 46, 58)}"
      ]
     },
     "execution_count": 60,
     "metadata": {},
     "output_type": "execute_result"
    }
   ],
   "source": [
    "vars(all_news[0])"
   ]
  },
  {
   "cell_type": "code",
   "execution_count": null,
   "id": "36762af5",
   "metadata": {},
   "outputs": [],
   "source": []
  }
 ],
 "metadata": {
  "kernelspec": {
   "display_name": "Python 3 (ipykernel)",
   "language": "python",
   "name": "python3"
  },
  "language_info": {
   "codemirror_mode": {
    "name": "ipython",
    "version": 3
   },
   "file_extension": ".py",
   "mimetype": "text/x-python",
   "name": "python",
   "nbconvert_exporter": "python",
   "pygments_lexer": "ipython3",
   "version": "3.8.13"
  }
 },
 "nbformat": 4,
 "nbformat_minor": 5
}
